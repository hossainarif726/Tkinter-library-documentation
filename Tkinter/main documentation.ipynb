{
 "cells": [
  {
   "cell_type": "markdown",
   "metadata": {},
   "source": [
    "### This is a basic walkout documentation of Python tkinter GUI.\n",
    "\n",
    " - Outputs are given in .png formats in Tkinter/img folder.\n",
    " - Syntax and details of options are given in doc file naming ''Tkinter.docx''."
   ]
  },
  {
   "cell_type": "markdown",
   "metadata": {},
   "source": [
    "#### 1)  How to run tkinter app:"
   ]
  },
  {
   "cell_type": "code",
   "execution_count": 4,
   "metadata": {},
   "outputs": [
    {
     "data": {
      "text/plain": [
       "''"
      ]
     },
     "execution_count": 4,
     "metadata": {},
     "output_type": "execute_result"
    }
   ],
   "source": [
    "from tkinter import *\n",
    "m = Tk()\n",
    "m.title('tkinter app')"
   ]
  },
  {
   "cell_type": "markdown",
   "metadata": {},
   "source": [
    "#### 2) How to create a sized Button:"
   ]
  },
  {
   "cell_type": "code",
   "execution_count": null,
   "metadata": {},
   "outputs": [],
   "source": [
    "button = Button(m,text= 'Jim',width = 40)\n",
    "button.pack()"
   ]
  },
  {
   "cell_type": "markdown",
   "metadata": {},
   "source": [
    "#### 3) Creating Checkbutton:"
   ]
  },
  {
   "cell_type": "code",
   "execution_count": null,
   "metadata": {},
   "outputs": [],
   "source": [
    "Checkbutton(m,text = 'Male').grid(row = 0,sticky = W )\n",
    "Checkbutton(m,text = 'Female').grid(row = 1,sticky = W )"
   ]
  },
  {
   "cell_type": "markdown",
   "metadata": {},
   "source": [
    "#### 4) Creating Entry buttons with grid method:"
   ]
  },
  {
   "cell_type": "code",
   "execution_count": null,
   "metadata": {},
   "outputs": [],
   "source": [
    "Label(m,text = 'First Name').grid(row=0)\n",
    "Label(m,text = 'Last Name').grid(row=1)\n",
    "\n",
    "f1 = Entry(m).grid(row=0,column=1)\n",
    "f2 = Entry(m).grid(row=1,column=1)"
   ]
  },
  {
   "cell_type": "markdown",
   "metadata": {},
   "source": [
    "#### 5) Creating Frames with pack method:"
   ]
  },
  {
   "cell_type": "code",
   "execution_count": null,
   "metadata": {},
   "outputs": [],
   "source": [
    "upper_frame=Frame(m)\n",
    "upper_frame.pack()\n",
    "bottom_frame=Frame(m)\n",
    "bottom_frame.pack()\n",
    "red_button = Button(upper_frame,text = 'Red', fg = 'red')\n",
    "red_button.pack(side = LEFT)\n",
    "blue_button = Button(upper_frame,text = 'Blue', fg = 'blue')\n",
    "blue_button.pack(side = LEFT)\n",
    "black_button = Button(bottom_frame,text = 'Black', fg = 'black')\n",
    "black_button.pack(side = BOTTOM)"
   ]
  },
  {
   "cell_type": "markdown",
   "metadata": {},
   "source": [
    "#### 6) Creating window with geometry method:"
   ]
  },
  {
   "cell_type": "code",
   "execution_count": 5,
   "metadata": {},
   "outputs": [
    {
     "data": {
      "text/plain": [
       "''"
      ]
     },
     "execution_count": 5,
     "metadata": {},
     "output_type": "execute_result"
    }
   ],
   "source": [
    "m.geometry('500x150')"
   ]
  },
  {
   "cell_type": "markdown",
   "metadata": {},
   "source": [
    "#### 7) Creating Label:"
   ]
  },
  {
   "cell_type": "code",
   "execution_count": null,
   "metadata": {},
   "outputs": [],
   "source": [
    "w = Label(m,text='My name is Arif')\n",
    "w.pack()"
   ]
  },
  {
   "cell_type": "markdown",
   "metadata": {},
   "source": [
    "#### 8) Creating Listbox:"
   ]
  },
  {
   "cell_type": "code",
   "execution_count": 2,
   "metadata": {},
   "outputs": [],
   "source": [
    "l = Listbox(m)\n",
    "l.insert(1,'Python')\n",
    "l.insert(2,'Arif')\n",
    "l.insert(3,'Java')\n",
    "l.pack()"
   ]
  },
  {
   "cell_type": "markdown",
   "metadata": {},
   "source": [
    "#### 9) Creating Menubutton: "
   ]
  },
  {
   "cell_type": "code",
   "execution_count": 8,
   "metadata": {},
   "outputs": [],
   "source": [
    "menu_button = Menubutton(m,text='Menu')\n",
    "menu_button.grid()\n",
    "menu_button.menu = Menu(menu_button,tearoff = 0)\n",
    "menu_button['menu'] = menu_button.menu\n",
    "hVar = IntVar()\n",
    "aVar = IntVar()\n",
    "menu_button.menu.add_checkbutton(label='Home',variable = hVar)\n",
    "menu_button.menu.add_checkbutton(label='About',variable = aVar)\n",
    "menu_button.pack()"
   ]
  },
  {
   "cell_type": "markdown",
   "metadata": {},
   "source": [
    "#### 10) Creating Menu:"
   ]
  },
  {
   "cell_type": "code",
   "execution_count": 14,
   "metadata": {},
   "outputs": [],
   "source": [
    "menu = Menu(m)\n",
    "m.config(menu=menu)\n",
    "filemenu = Menu(menu)\n",
    "menu.add_cascade(label = 'File',menu=filemenu)\n",
    "filemenu.add_command(label = 'New')\n",
    "filemenu.add_command(label = 'Open')\n",
    "filemenu.add_separator()\n",
    "filemenu.add_command(label = 'Exit',command = m.quit)\n",
    "helpmenu = Menu(menu)\n",
    "menu.add_cascade(label = 'Help',menu=helpmenu)\n",
    "helpmenu.add_command(label = 'about')"
   ]
  },
  {
   "cell_type": "markdown",
   "metadata": {},
   "source": [
    "#### 11) How to write non-editable text:"
   ]
  },
  {
   "cell_type": "code",
   "execution_count": 17,
   "metadata": {},
   "outputs": [],
   "source": [
    "messageVar = Message(m,text = 'Arif Hosaain Jim')\n",
    "messageVar.pack()"
   ]
  },
  {
   "cell_type": "markdown",
   "metadata": {},
   "source": [
    "#### 12) How to create Radiobutton:"
   ]
  },
  {
   "cell_type": "code",
   "execution_count": 25,
   "metadata": {},
   "outputs": [],
   "source": [
    "v = IntVar()\n",
    "Radiobutton(m,text = 'Male',variable = v,value = 1).pack(anchor=W)\n",
    "Radiobutton(m,text = 'Female',variable = v,value = 2).pack(anchor=W)"
   ]
  },
  {
   "cell_type": "markdown",
   "metadata": {},
   "source": [
    "#### 13) How to create Scale:"
   ]
  },
  {
   "cell_type": "code",
   "execution_count": 28,
   "metadata": {},
   "outputs": [],
   "source": [
    "w = Scale(m,from_=0, to=40)\n",
    "w.pack()\n",
    "w= Scale(m,from_=0, to=100, orient=HORIZONTAL)\n",
    "w.pack()"
   ]
  },
  {
   "cell_type": "markdown",
   "metadata": {},
   "source": [
    "#### 14) How to create Scrollbar:"
   ]
  },
  {
   "cell_type": "code",
   "execution_count": 11,
   "metadata": {},
   "outputs": [],
   "source": [
    "scrollbar = Scrollbar(m)\n",
    "scrollbar.pack(side = RIGHT, fill = Y)\n",
    "lis = Listbox(m, yscrollcommand = scrollbar.set)\n",
    "for line in range(100):\n",
    "    lis.insert(END, 'Line number  '+str(line))\n",
    "    lis.pack(side = LEFT,fill = BOTH)\n",
    "    scrollbar.config(command = lis.yview)"
   ]
  },
  {
   "cell_type": "markdown",
   "metadata": {},
   "source": [
    "#### 15) How to create editable text:"
   ]
  },
  {
   "cell_type": "code",
   "execution_count": 14,
   "metadata": {},
   "outputs": [],
   "source": [
    "textt = Text(m,height = 3, width = 40)\n",
    "textt.pack()\n",
    "textt.insert(END, 'Arif\\nHossain\\nJim')"
   ]
  },
  {
   "cell_type": "markdown",
   "metadata": {},
   "source": [
    "#### 16) How to creat Toplevel:"
   ]
  },
  {
   "cell_type": "code",
   "execution_count": 17,
   "metadata": {},
   "outputs": [
    {
     "data": {
      "text/plain": [
       "''"
      ]
     },
     "execution_count": 17,
     "metadata": {},
     "output_type": "execute_result"
    }
   ],
   "source": [
    "top = Toplevel()\n",
    "top.title('New window')"
   ]
  },
  {
   "cell_type": "markdown",
   "metadata": {},
   "source": [
    "#### 17) How to create Spinbox:"
   ]
  },
  {
   "cell_type": "code",
   "execution_count": 23,
   "metadata": {},
   "outputs": [],
   "source": [
    "s = Spinbox(m,from_ = 0,to = 10)\n",
    "s.pack()"
   ]
  },
  {
   "cell_type": "markdown",
   "metadata": {},
   "source": [
    "#### 18) How to create PanedWindow:"
   ]
  },
  {
   "cell_type": "code",
   "execution_count": 32,
   "metadata": {},
   "outputs": [],
   "source": [
    "p1 = PanedWindow()\n",
    "p1.pack(fill = BOTH,expand = 1)\n",
    "left = Entry(p1,bd=5)\n",
    "p1.add(left)\n",
    "p2 = PanedWindow(p1,orient=VERTICAL)\n",
    "p1.add(p2)\n",
    "top = Scale(p2,orient = HORIZONTAL)\n",
    "p2.add(top)"
   ]
  },
  {
   "cell_type": "markdown",
   "metadata": {},
   "source": [
    "#### 19) How to work with place method:"
   ]
  },
  {
   "cell_type": "code",
   "execution_count": 3,
   "metadata": {},
   "outputs": [],
   "source": [
    "b1 = Button(m,text = 'click me')\n",
    "b1.place(relx =1, x = -2,y=2, anchor=NE)"
   ]
  },
  {
   "cell_type": "code",
   "execution_count": 6,
   "metadata": {},
   "outputs": [],
   "source": [
    "m.mainloop()"
   ]
  },
  {
   "cell_type": "markdown",
   "metadata": {},
   "source": [
    "                                 Created By:\n",
    "                                            Arif Hossain Jim\n",
    "                                 Reference:\n",
    "                                            https://www.geeksforgeeks.org/\n",
    "                                            https://www.tutorialspoint.com/"
   ]
  }
 ],
 "metadata": {
  "kernelspec": {
   "display_name": "Python 3",
   "language": "python",
   "name": "python3"
  },
  "language_info": {
   "codemirror_mode": {
    "name": "ipython",
    "version": 3
   },
   "file_extension": ".py",
   "mimetype": "text/x-python",
   "name": "python",
   "nbconvert_exporter": "python",
   "pygments_lexer": "ipython3",
   "version": "3.7.7"
  }
 },
 "nbformat": 4,
 "nbformat_minor": 4
}
